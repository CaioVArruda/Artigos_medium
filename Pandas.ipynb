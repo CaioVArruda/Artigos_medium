{
  "nbformat": 4,
  "nbformat_minor": 0,
  "metadata": {
    "colab": {
      "provenance": [],
      "toc_visible": true,
      "authorship_tag": "ABX9TyOKQsWYzj5u7tvxfrE3dd/+",
      "include_colab_link": true
    },
    "kernelspec": {
      "name": "python3",
      "display_name": "Python 3"
    },
    "language_info": {
      "name": "python"
    }
  },
  "cells": [
    {
      "cell_type": "markdown",
      "metadata": {
        "id": "view-in-github",
        "colab_type": "text"
      },
      "source": [
        "<a href=\"https://colab.research.google.com/github/CaioVArruda/Artigos_medium/blob/main/Pandas.ipynb\" target=\"_parent\"><img src=\"https://colab.research.google.com/assets/colab-badge.svg\" alt=\"Open In Colab\"/></a>"
      ]
    },
    {
      "cell_type": "markdown",
      "source": [
        "By Caio Viani Arruda\n",
        "_____\n",
        "#**Pandas**\n",
        "\n",
        "![](https://miro.medium.com/max/720/1*koYA6G9V4mC-mmz1OomMLg.jpeg)\n",
        "\n",
        "Uma biblioteca muito utilizada em Python com inúmeras funcionalidades para quem gosta da experiência de analisar dados. Podemos ler, manipular, agregar e plotar dados em poucos passos. Trabalhando de maneira integrada com outras bibliotecas.\n",
        "\n",
        "Vamos trazer o conceito de dataframe muito usado no pandas, consiste ns composição dos nossos dados seja o número de colunas e o números de linhas, cada coluna no pandas recebe o nome de series e um amontado de series recebe o nome de dataframe, ou seja, de maneira bem simples por comparar a uma tabela de excel.\n",
        "\n",
        "Além de suas funcionalidades esta biblioteca é tão popular por ser considerada de fácil aprendizado e uso, sendo porta de entrada para aqueles que desejam ingressar no mundo de Data analysis ou Data science.\n",
        "\n",
        "Como dito logo acima essas análises podem ser refinidas quando integramos o pandas a outras ferramentas que potencializam o seu poder analítico, como:\n",
        "\n",
        "* **Seaborn**: Estatística e visualização;\n",
        "* **Numpy**: Cálculos numéricos;\n",
        "* **Matplotlib**: Visualização;\n",
        "* **Scikit-learn**: classificação, clusterização e regressão;"
      ],
      "metadata": {
        "id": "SeT1P32nS4Qk"
      }
    },
    {
      "cell_type": "markdown",
      "source": [
        "# Instalando pandas\n",
        "\n",
        "A depender do ambiente em que estiver codificando será necessário instalar o pandas ou qualquer outra biblioteca."
      ],
      "metadata": {
        "id": "DG14HJs5Yhuq"
      }
    },
    {
      "cell_type": "code",
      "execution_count": 1,
      "metadata": {
        "colab": {
          "base_uri": "https://localhost:8080/"
        },
        "id": "yfsofS5ASwRT",
        "outputId": "51be1d8b-4c71-4f08-d86e-f1d3a1c7e816"
      },
      "outputs": [
        {
          "output_type": "stream",
          "name": "stdout",
          "text": [
            "Looking in indexes: https://pypi.org/simple, https://us-python.pkg.dev/colab-wheels/public/simple/\n",
            "Requirement already satisfied: pandas in /usr/local/lib/python3.7/dist-packages (1.3.5)\n",
            "Requirement already satisfied: python-dateutil>=2.7.3 in /usr/local/lib/python3.7/dist-packages (from pandas) (2.8.2)\n",
            "Requirement already satisfied: numpy>=1.17.3 in /usr/local/lib/python3.7/dist-packages (from pandas) (1.21.6)\n",
            "Requirement already satisfied: pytz>=2017.3 in /usr/local/lib/python3.7/dist-packages (from pandas) (2022.4)\n",
            "Requirement already satisfied: six>=1.5 in /usr/local/lib/python3.7/dist-packages (from python-dateutil>=2.7.3->pandas) (1.15.0)\n"
          ]
        }
      ],
      "source": [
        "# Jupyter notebbok\n",
        "!pip install pandas"
      ]
    },
    {
      "cell_type": "markdown",
      "source": [
        "Para impostar o pandas utilizamos o seguinte comando."
      ],
      "metadata": {
        "id": "qrOOQpm0Xuvx"
      }
    },
    {
      "cell_type": "code",
      "source": [
        "# Importando o pandas\n",
        "import pandas as pd"
      ],
      "metadata": {
        "id": "m-F2HWm6X0LU"
      },
      "execution_count": 2,
      "outputs": []
    },
    {
      "cell_type": "markdown",
      "source": [
        "**Obs**: a utilização do pd se dá como uma abreviatura do nome da própria biblioteca, facilitando a sua utilização quando necessário. Isto é apenas uma convenção, se quiser pode nomeá-la como bem entender."
      ],
      "metadata": {
        "id": "mfwYkc_LX9m6"
      }
    },
    {
      "cell_type": "markdown",
      "source": [
        "# Aprendendo a ler arquivos\n",
        "\n",
        "Vamos utilizar os comando pd.read e observar quantas extensões são possíveis de ler no pandas."
      ],
      "metadata": {
        "id": "nom6TRvVYvWF"
      }
    },
    {
      "cell_type": "code",
      "source": [
        "# Lendo arquivos\n",
        "pd.read_excel('caminho do arquivo') #para o exemplo utilizamos a extensão do excel"
      ],
      "metadata": {
        "id": "xzWvvOqiY_Wf"
      },
      "execution_count": null,
      "outputs": []
    },
    {
      "cell_type": "markdown",
      "source": [
        "Para conseguir acessar todas as extensões suportadas pelo colab basta fazer como o exemplo abaixo e apertar tab."
      ],
      "metadata": {
        "id": "1GhI1VtFaH69"
      }
    },
    {
      "cell_type": "markdown",
      "source": [
        "Podemos ainda atribuir esse arquivo a uma variável de sua preferência nesse caso vamos nomeá-la de df:"
      ],
      "metadata": {
        "id": "iqKgGWBDdP1Y"
      }
    },
    {
      "cell_type": "code",
      "source": [
        "df = pd.read_excel('caminho do arquivo') # para o exemplo utilizamos a extensão do excel"
      ],
      "metadata": {
        "id": "YLBubmR-dawb"
      },
      "execution_count": null,
      "outputs": []
    },
    {
      "cell_type": "markdown",
      "source": [
        "# Abas e colunas\n",
        "\n",
        "Essa nossa variável agora pode ser analisada de diversas manieras, como no exemplo usamos uma extensão xlsx, ou seja, excel, podemos percorre todas as suas abas, se está tiver mais de uma claro, da seguinte maneira:"
      ],
      "metadata": {
        "id": "haoP-Ov_eU0K"
      }
    },
    {
      "cell_type": "code",
      "source": [
        "# Para acessar uma aba\n",
        "df['sheet_name']\n",
        "\n",
        "# Para acessar uma coluna de uma determinada aba\n",
        "df['sheet_name']['column_name']"
      ],
      "metadata": {
        "id": "AZtTDhiYd8qS"
      },
      "execution_count": null,
      "outputs": []
    },
    {
      "cell_type": "markdown",
      "source": [
        "# Comandos simples, mas importante\n",
        "\n",
        "O pandas possui comandos que nos possibilitam ter um olhar mais intrínseco e específico dos nossos dados, possibilitando ver as primeiras ou últimas linhas do nosso comando, transpor os dados do dataframe e até mesmo a estrutura deste."
      ],
      "metadata": {
        "id": "rk-AzBEeeysi"
      }
    },
    {
      "cell_type": "code",
      "source": [
        "# As 5 primeiras entradas\n",
        "df.head() # Note que podemos inserir argumentos para selecionarmos outras quantidades de linhas\n",
        "\n",
        "# As 5 últimas entradas\n",
        "df.tail() # Neste também podemos fornecer outros argumentos.\n",
        "\n",
        "# Transpondo os dados \n",
        "df.T "
      ],
      "metadata": {
        "id": "YiZd4VXbu-uS"
      },
      "execution_count": null,
      "outputs": []
    },
    {
      "cell_type": "markdown",
      "source": [
        "Temos dois comandos muito interessantes para descobrirmos o tamanho do nosso dataframe, sua composição e quais tipos de dados constituiem o nosso banco de dados, são eles:"
      ],
      "metadata": {
        "id": "X7T9qC1kwWja"
      }
    },
    {
      "cell_type": "code",
      "source": [
        "# Dimensões do df\n",
        "df.shape # retorna o número de linhas e colunas\n",
        "\n",
        "# O comando abaixo retorna quais tipos constituem cada coluna, número de entradas e outras informações\n",
        "df.info()"
      ],
      "metadata": {
        "id": "iHQgXCTnwuQ6"
      },
      "execution_count": null,
      "outputs": []
    },
    {
      "cell_type": "markdown",
      "source": [
        "# Descrevendo o df\n",
        "\n",
        "Para uma análise descritiva rápida existe um comando específico para esta tarefa, a qual nos retorna as medidas de tendência central, média, mediana, desvio padrão e os quartis."
      ],
      "metadata": {
        "id": "l3SG7uY8xyhb"
      }
    },
    {
      "cell_type": "code",
      "source": [
        "# Comando para as medidas de tendência central\n",
        "df.describe()"
      ],
      "metadata": {
        "id": "WZIz_8Neydom"
      },
      "execution_count": null,
      "outputs": []
    },
    {
      "cell_type": "markdown",
      "source": [
        "Vale resaltar que o pandas nos permite executar algumas operações aritméticas como soma, média, desvio padrão e alguns outros."
      ],
      "metadata": {
        "id": "RnlhVmGcyls8"
      }
    },
    {
      "cell_type": "code",
      "source": [
        "# Utilizando as operações\n",
        "# Soma\n",
        "df['coluna_nome'].sum()\n",
        "\n",
        "# Média\n",
        "df['coluna_name'].mean()"
      ],
      "metadata": {
        "id": "f1DRkhIFyzw0"
      },
      "execution_count": null,
      "outputs": []
    },
    {
      "cell_type": "markdown",
      "source": [
        "# Adicionando ou removendo colunas\n",
        "\n",
        "O pandas nos permite saber quantas colunas temos no df e qual o nome delas, possibilitando ainda acrescentar ou excluir uma determinada coluna, veja que estes comandos podem ser uma mão na roda quando pensamos em manipulação, vejamos:"
      ],
      "metadata": {
        "id": "1FH5enJn1C_3"
      }
    },
    {
      "cell_type": "code",
      "source": [
        "# Nome das colunas\n",
        "df.columns\n",
        "\n",
        "# Adicionando uma coluna\n",
        "df['coluna_nome'] = objeto ou condição que retorna um objeto\n",
        "\n",
        "# excluindo um coluna\n",
        "del df['coluna_nome']"
      ],
      "metadata": {
        "id": "5iRPYn5h138d"
      },
      "execution_count": null,
      "outputs": []
    },
    {
      "cell_type": "markdown",
      "source": [
        "**Obs**: É possível filtrar o que queremos do banco de dados por meio de um arranjo de statements, seja para selecionar um tipo específico do dado ou um período tempo, mas este é um assunto pra outra hora.\n",
        "\n",
        "Um outro comando muito legal é o dtypes(), nos fornece o tipo de cada objeto de cada coluna quando pesquisamos com esse comando."
      ],
      "metadata": {
        "id": "ZMBHPQ-i3ow1"
      }
    },
    {
      "cell_type": "code",
      "source": [
        "# Identificando os tipos de cada coluna\n",
        "df.dtypes()"
      ],
      "metadata": {
        "id": "1TAbJeQe6VN4"
      },
      "execution_count": null,
      "outputs": []
    },
    {
      "cell_type": "markdown",
      "source": [
        "# Índice\n",
        "\n",
        "O índice por padrão é estabelecido numericamente, mas este pode ser configurado ao escolher uma das séries (uma das colunas) para exercer essa função, por meio dos comandos:"
      ],
      "metadata": {
        "id": "szHNNxOV6dQN"
      }
    },
    {
      "cell_type": "code",
      "source": [
        "# Alterando o índice\n",
        "df.set_index('coluna_nome', inplace=True) # precisamos fornecer o nome da coluna como argumento e o inplace serve para substituir\n",
        "\n",
        "# Outra forma\n",
        "df = df.set_index('coluna_nome') # neste não precisa do inplace porque estamos fazendo a alteração diretamente no dataframe"
      ],
      "metadata": {
        "id": "_1ZxRE998ML2"
      },
      "execution_count": null,
      "outputs": []
    },
    {
      "cell_type": "markdown",
      "source": [
        "**Obs:** como dito o índice varia de 0 até n-1. Outra ressalva que vale ser feita é o argumento inplace o qual é necessário para gerar a alteração definitiva no nosso df, se não for pelo inplace então precisamos atribuir novamente, se nenhuma dessas maneiras forem feitas o dataframe permanece como original."
      ],
      "metadata": {
        "id": "xJkDat6Z82v4"
      }
    },
    {
      "cell_type": "markdown",
      "source": [
        "# Identificando valores únicos, contando valores e alterando seu tipo\n",
        "\n",
        "Para estas três tarefas a biblioteca possui comandos específicos e de uma facilidade gigante para aqueles que estão manipulando o dataframe, por meio deles podemos identifcar valores únicos, este nos permite captar incongruências quando existir, podemos ainda contar os valores de uma determinada coluna linha a linha e até mesmo converter o tipo do dado de uma determinada coluna. Vejamos como proceder:"
      ],
      "metadata": {
        "id": "bH6RXSPP-Lwh"
      }
    },
    {
      "cell_type": "code",
      "source": [
        "# Valores únicos\n",
        "df['coluna_nome'].unique() # retorna valores únicos como um array np\n",
        "\n",
        "# Contando valores\n",
        "df['coluna_nome'].value_counts() # retorna uma contagem dos valores que aparecem nessa coluna\n",
        "\n",
        "# Alterando o tipo do dado de uma dada coluna\n",
        "df['coluna_nome'].astype() # converte o tipo de dado de uma coluna específica"
      ],
      "metadata": {
        "id": "YIHQqCvg_UCa"
      },
      "execution_count": null,
      "outputs": []
    },
    {
      "cell_type": "markdown",
      "source": [
        "# Conclusão\n",
        "\n",
        "Conseguimos perceber que mesmo abordando aspectos mais básicos dessa biblioteca ela nos permite fazer boas manipulações com a nossa base de dados, lógico que existem muitas outras ferramentas dentro da caixa do pandas as quais não foram exploradas neste artigo, mais acredito que num futuro próximo podemos tentar tornar esse conhecimento tangível a todos que estão inciando na programação.\n",
        "Qualquer dúvida, crítica ou sugestão ficarei feliz em ouvir. Abraços até o próximo."
      ],
      "metadata": {
        "id": "E5YrdxIxANe7"
      }
    }
  ]
}